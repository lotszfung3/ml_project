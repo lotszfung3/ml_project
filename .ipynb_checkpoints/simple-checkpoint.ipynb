{
 "cells": [
  {
   "cell_type": "code",
   "execution_count": 1,
   "metadata": {
    "collapsed": true
   },
   "outputs": [],
   "source": [
    "%matplotlib inline\n",
    "import pandas as pd\n",
    "import tensorflow as tf\n",
    "import numpy as np\n",
    "import matplotlib\n",
    "import matplotlib.pyplot as plt\n",
    "import warnings\n",
    "warnings.filterwarnings('ignore')"
   ]
  },
  {
   "cell_type": "code",
   "execution_count": 2,
   "metadata": {
    "collapsed": true
   },
   "outputs": [],
   "source": [
    "df=pd.read_csv('./USvideos.csv',sep=',')"
   ]
  },
  {
   "cell_type": "markdown",
   "metadata": {},
   "source": [
    "# Data exploration"
   ]
  },
  {
   "cell_type": "code",
   "execution_count": 3,
   "metadata": {
    "collapsed": true
   },
   "outputs": [],
   "source": [
    "df=df[df.dislikes > 0]\n",
    "df=df[df.likes > 0]"
   ]
  },
  {
   "cell_type": "code",
   "execution_count": 29,
   "metadata": {
    "scrolled": false
   },
   "outputs": [
    {
     "data": {
      "text/html": [
       "<div>\n",
       "<style>\n",
       "    .dataframe thead tr:only-child th {\n",
       "        text-align: right;\n",
       "    }\n",
       "\n",
       "    .dataframe thead th {\n",
       "        text-align: left;\n",
       "    }\n",
       "\n",
       "    .dataframe tbody tr th {\n",
       "        vertical-align: top;\n",
       "    }\n",
       "</style>\n",
       "<table border=\"1\" class=\"dataframe\">\n",
       "  <thead>\n",
       "    <tr style=\"text-align: right;\">\n",
       "      <th></th>\n",
       "      <th>video_id</th>\n",
       "      <th>trending_date</th>\n",
       "      <th>title</th>\n",
       "      <th>channel_title</th>\n",
       "      <th>category_id</th>\n",
       "      <th>publish_time</th>\n",
       "      <th>tags</th>\n",
       "      <th>views</th>\n",
       "      <th>likes</th>\n",
       "      <th>dislikes</th>\n",
       "      <th>...</th>\n",
       "      <th>thumbnail_link</th>\n",
       "      <th>comments_disabled</th>\n",
       "      <th>ratings_disabled</th>\n",
       "      <th>video_error_or_removed</th>\n",
       "      <th>description</th>\n",
       "      <th>likes_per_views</th>\n",
       "      <th>likes_to_dislikes</th>\n",
       "      <th>log_likes_per_views</th>\n",
       "      <th>log_likes_to_dislikes</th>\n",
       "      <th>higher_than_median</th>\n",
       "    </tr>\n",
       "  </thead>\n",
       "  <tbody>\n",
       "    <tr>\n",
       "      <th>0</th>\n",
       "      <td>2kyS6SvSYSE</td>\n",
       "      <td>17.14.11</td>\n",
       "      <td>WE WANT TO TALK ABOUT OUR MARRIAGE</td>\n",
       "      <td>CaseyNeistat</td>\n",
       "      <td>22</td>\n",
       "      <td>2017-11-13T17:13:01.000Z</td>\n",
       "      <td>SHANtell martin</td>\n",
       "      <td>748374</td>\n",
       "      <td>57527</td>\n",
       "      <td>2966</td>\n",
       "      <td>...</td>\n",
       "      <td>https://i.ytimg.com/vi/2kyS6SvSYSE/default.jpg</td>\n",
       "      <td>False</td>\n",
       "      <td>False</td>\n",
       "      <td>False</td>\n",
       "      <td>SHANTELL'S CHANNEL - https://www.youtube.com/s...</td>\n",
       "      <td>0.076869</td>\n",
       "      <td>19.395482</td>\n",
       "      <td>-2.565648</td>\n",
       "      <td>2.965040</td>\n",
       "      <td>True</td>\n",
       "    </tr>\n",
       "    <tr>\n",
       "      <th>1</th>\n",
       "      <td>1ZAPwfrtAFY</td>\n",
       "      <td>17.14.11</td>\n",
       "      <td>The Trump Presidency: Last Week Tonight with J...</td>\n",
       "      <td>LastWeekTonight</td>\n",
       "      <td>24</td>\n",
       "      <td>2017-11-13T07:30:00.000Z</td>\n",
       "      <td>last week tonight trump presidency|\"last week ...</td>\n",
       "      <td>2418783</td>\n",
       "      <td>97185</td>\n",
       "      <td>6146</td>\n",
       "      <td>...</td>\n",
       "      <td>https://i.ytimg.com/vi/1ZAPwfrtAFY/default.jpg</td>\n",
       "      <td>False</td>\n",
       "      <td>False</td>\n",
       "      <td>False</td>\n",
       "      <td>One year after the presidential election, John...</td>\n",
       "      <td>0.040179</td>\n",
       "      <td>15.812724</td>\n",
       "      <td>-3.214403</td>\n",
       "      <td>2.760815</td>\n",
       "      <td>True</td>\n",
       "    </tr>\n",
       "    <tr>\n",
       "      <th>2</th>\n",
       "      <td>5qpjK5DgCt4</td>\n",
       "      <td>17.14.11</td>\n",
       "      <td>Racist Superman | Rudy Mancuso, King Bach &amp; Le...</td>\n",
       "      <td>Rudy Mancuso</td>\n",
       "      <td>23</td>\n",
       "      <td>2017-11-12T19:05:24.000Z</td>\n",
       "      <td>racist superman|\"rudy\"|\"mancuso\"|\"king\"|\"bach\"...</td>\n",
       "      <td>3191434</td>\n",
       "      <td>146033</td>\n",
       "      <td>5339</td>\n",
       "      <td>...</td>\n",
       "      <td>https://i.ytimg.com/vi/5qpjK5DgCt4/default.jpg</td>\n",
       "      <td>False</td>\n",
       "      <td>False</td>\n",
       "      <td>False</td>\n",
       "      <td>WATCH MY PREVIOUS VIDEO ▶ \\n\\nSUBSCRIBE ► http...</td>\n",
       "      <td>0.045758</td>\n",
       "      <td>27.352126</td>\n",
       "      <td>-3.084393</td>\n",
       "      <td>3.308794</td>\n",
       "      <td>False</td>\n",
       "    </tr>\n",
       "    <tr>\n",
       "      <th>3</th>\n",
       "      <td>puqaWrEC7tY</td>\n",
       "      <td>17.14.11</td>\n",
       "      <td>Nickelback Lyrics: Real or Fake?</td>\n",
       "      <td>Good Mythical Morning</td>\n",
       "      <td>24</td>\n",
       "      <td>2017-11-13T11:00:04.000Z</td>\n",
       "      <td>rhett and link|\"gmm\"|\"good mythical morning\"|\"...</td>\n",
       "      <td>343168</td>\n",
       "      <td>10172</td>\n",
       "      <td>666</td>\n",
       "      <td>...</td>\n",
       "      <td>https://i.ytimg.com/vi/puqaWrEC7tY/default.jpg</td>\n",
       "      <td>False</td>\n",
       "      <td>False</td>\n",
       "      <td>False</td>\n",
       "      <td>Today we find out if Link is a Nickelback amat...</td>\n",
       "      <td>0.029641</td>\n",
       "      <td>15.273273</td>\n",
       "      <td>-3.518581</td>\n",
       "      <td>2.726104</td>\n",
       "      <td>True</td>\n",
       "    </tr>\n",
       "    <tr>\n",
       "      <th>4</th>\n",
       "      <td>d380meD0W0M</td>\n",
       "      <td>17.14.11</td>\n",
       "      <td>I Dare You: GOING BALD!?</td>\n",
       "      <td>nigahiga</td>\n",
       "      <td>24</td>\n",
       "      <td>2017-11-12T18:01:41.000Z</td>\n",
       "      <td>ryan|\"higa\"|\"higatv\"|\"nigahiga\"|\"i dare you\"|\"...</td>\n",
       "      <td>2095731</td>\n",
       "      <td>132235</td>\n",
       "      <td>1989</td>\n",
       "      <td>...</td>\n",
       "      <td>https://i.ytimg.com/vi/d380meD0W0M/default.jpg</td>\n",
       "      <td>False</td>\n",
       "      <td>False</td>\n",
       "      <td>False</td>\n",
       "      <td>I know it's been a while since we did this sho...</td>\n",
       "      <td>0.063097</td>\n",
       "      <td>66.483157</td>\n",
       "      <td>-2.763077</td>\n",
       "      <td>4.196949</td>\n",
       "      <td>False</td>\n",
       "    </tr>\n",
       "  </tbody>\n",
       "</table>\n",
       "<p>5 rows × 21 columns</p>\n",
       "</div>"
      ],
      "text/plain": [
       "      video_id trending_date  \\\n",
       "0  2kyS6SvSYSE      17.14.11   \n",
       "1  1ZAPwfrtAFY      17.14.11   \n",
       "2  5qpjK5DgCt4      17.14.11   \n",
       "3  puqaWrEC7tY      17.14.11   \n",
       "4  d380meD0W0M      17.14.11   \n",
       "\n",
       "                                               title          channel_title  \\\n",
       "0                 WE WANT TO TALK ABOUT OUR MARRIAGE           CaseyNeistat   \n",
       "1  The Trump Presidency: Last Week Tonight with J...        LastWeekTonight   \n",
       "2  Racist Superman | Rudy Mancuso, King Bach & Le...           Rudy Mancuso   \n",
       "3                   Nickelback Lyrics: Real or Fake?  Good Mythical Morning   \n",
       "4                           I Dare You: GOING BALD!?               nigahiga   \n",
       "\n",
       "   category_id              publish_time  \\\n",
       "0           22  2017-11-13T17:13:01.000Z   \n",
       "1           24  2017-11-13T07:30:00.000Z   \n",
       "2           23  2017-11-12T19:05:24.000Z   \n",
       "3           24  2017-11-13T11:00:04.000Z   \n",
       "4           24  2017-11-12T18:01:41.000Z   \n",
       "\n",
       "                                                tags    views   likes  \\\n",
       "0                                    SHANtell martin   748374   57527   \n",
       "1  last week tonight trump presidency|\"last week ...  2418783   97185   \n",
       "2  racist superman|\"rudy\"|\"mancuso\"|\"king\"|\"bach\"...  3191434  146033   \n",
       "3  rhett and link|\"gmm\"|\"good mythical morning\"|\"...   343168   10172   \n",
       "4  ryan|\"higa\"|\"higatv\"|\"nigahiga\"|\"i dare you\"|\"...  2095731  132235   \n",
       "\n",
       "   dislikes         ...          \\\n",
       "0      2966         ...           \n",
       "1      6146         ...           \n",
       "2      5339         ...           \n",
       "3       666         ...           \n",
       "4      1989         ...           \n",
       "\n",
       "                                   thumbnail_link comments_disabled  \\\n",
       "0  https://i.ytimg.com/vi/2kyS6SvSYSE/default.jpg             False   \n",
       "1  https://i.ytimg.com/vi/1ZAPwfrtAFY/default.jpg             False   \n",
       "2  https://i.ytimg.com/vi/5qpjK5DgCt4/default.jpg             False   \n",
       "3  https://i.ytimg.com/vi/puqaWrEC7tY/default.jpg             False   \n",
       "4  https://i.ytimg.com/vi/d380meD0W0M/default.jpg             False   \n",
       "\n",
       "   ratings_disabled  video_error_or_removed  \\\n",
       "0             False                   False   \n",
       "1             False                   False   \n",
       "2             False                   False   \n",
       "3             False                   False   \n",
       "4             False                   False   \n",
       "\n",
       "                                         description likes_per_views  \\\n",
       "0  SHANTELL'S CHANNEL - https://www.youtube.com/s...        0.076869   \n",
       "1  One year after the presidential election, John...        0.040179   \n",
       "2  WATCH MY PREVIOUS VIDEO ▶ \\n\\nSUBSCRIBE ► http...        0.045758   \n",
       "3  Today we find out if Link is a Nickelback amat...        0.029641   \n",
       "4  I know it's been a while since we did this sho...        0.063097   \n",
       "\n",
       "   likes_to_dislikes  log_likes_per_views  log_likes_to_dislikes  \\\n",
       "0          19.395482            -2.565648               2.965040   \n",
       "1          15.812724            -3.214403               2.760815   \n",
       "2          27.352126            -3.084393               3.308794   \n",
       "3          15.273273            -3.518581               2.726104   \n",
       "4          66.483157            -2.763077               4.196949   \n",
       "\n",
       "   higher_than_median  \n",
       "0                True  \n",
       "1                True  \n",
       "2               False  \n",
       "3                True  \n",
       "4               False  \n",
       "\n",
       "[5 rows x 21 columns]"
      ]
     },
     "execution_count": 29,
     "metadata": {},
     "output_type": "execute_result"
    }
   ],
   "source": [
    "df.head()"
   ]
  },
  {
   "cell_type": "markdown",
   "metadata": {},
   "source": [
    "Since most of the raw features like (views, likes, dislikes, comment_count) should be highly correlated to the channel. So it should be very difficult to predict the features in interest from other features. In order to compensate for the effect. We try to define our own metrics on 'popularity'.\n",
    "Firstly, we have tried the ratio of likes to views and the ratio"
   ]
  },
  {
   "cell_type": "code",
   "execution_count": 5,
   "metadata": {
    "collapsed": true
   },
   "outputs": [],
   "source": [
    "df[\"likes_per_views\"]=df[\"likes\"]/df[\"views\"]\n",
    "df[\"likes_to_dislikes\"]=df[\"likes\"]/df[\"dislikes\"]\n",
    "df[\"log_likes_per_views\"]=np.log(df[\"likes\"]/df[\"views\"])\n",
    "df[\"log_likes_to_dislikes\"]=np.log(df[\"likes\"]/df[\"dislikes\"])\n"
   ]
  },
  {
   "cell_type": "markdown",
   "metadata": {},
   "source": [
    "In the below section, I have tried to do feature extraction and plotting the result in order to find the possible features that could be related to the popularity of a Youtube video"
   ]
  },
  {
   "cell_type": "code",
   "execution_count": 6,
   "metadata": {},
   "outputs": [
    {
     "data": {
      "text/plain": [
       "(array([   10.,    11.,    20.,    92.,   120.,   282.,   445.,   693.,\n",
       "         1127.,  1687.,  2778.,  3858.,  4668.,  4137.,  3060.,  1185.,\n",
       "          334.,    63.,     7.,     6.]),\n",
       " array([-3.18007103, -2.64806214, -2.11605326, -1.58404437, -1.05203549,\n",
       "        -0.52002661,  0.01198228,  0.54399116,  1.07600004,  1.60800893,\n",
       "         2.14001781,  2.6720267 ,  3.20403558,  3.73604446,  4.26805335,\n",
       "         4.80006223,  5.33207111,  5.86408   ,  6.39608888,  6.92809777,\n",
       "         7.46010665]),\n",
       " <a list of 20 Patch objects>)"
      ]
     },
     "execution_count": 6,
     "metadata": {},
     "output_type": "execute_result"
    },
    {
     "data": {
      "image/png": "[encoded data removed]",
      "text/plain": [
       "<matplotlib.figure.Figure at 0xf6256d8>"
      ]
     },
     "metadata": {},
     "output_type": "display_data"
    }
   ],
   "source": [
    "fig,axs=plt.subplots(1,2)\n",
    "axs[0].hist(df[\"log_likes_per_views\"],bins=20)\n",
    "axs[1].hist(df[\"log_likes_to_dislikes\"],bins=20)"
   ]
  },
  {
   "cell_type": "code",
   "execution_count": 7,
   "metadata": {},
   "outputs": [
    {
     "name": "stdout",
     "output_type": "stream",
     "text": [
      "number of unique channel:  1892\n"
     ]
    }
   ],
   "source": [
    "print(\"number of unique channel: \",df['channel_title'].value_counts().shape[0])"
   ]
  },
  {
   "cell_type": "code",
   "execution_count": 8,
   "metadata": {},
   "outputs": [
    {
     "data": {
      "text/plain": [
       "ESPN                                      122\n",
       "Vox                                       121\n",
       "Netflix                                   120\n",
       "NBA                                       120\n",
       "First We Feast                            119\n",
       "The Tonight Show Starring Jimmy Fallon    117\n",
       "NFL                                       115\n",
       "Tom Scott                                 114\n",
       "TheEllenShow                              112\n",
       "The Late Show with Stephen Colbert        111\n",
       "WWE                                       109\n",
       "Life Noggin                               107\n",
       "INSIDER                                   106\n",
       "Jimmy Kimmel Live                         105\n",
       "Late Night with Seth Meyers               105\n",
       "Screen Junkies                            104\n",
       "CNN                                       104\n",
       "Saturday Night Live                        96\n",
       "Great Big Story                            94\n",
       "Marques Brownlee                           92\n",
       "WIRED                                      92\n",
       "Refinery29                                 91\n",
       "BuzzFeedVideo                              89\n",
       "Bon Appétit                                89\n",
       "ABC News                                   87\n",
       "TED-Ed                                     86\n",
       "CollegeHumor                               83\n",
       "The Late Late Show with James Corden       83\n",
       "Washington Post                            82\n",
       "The King of Random                         81\n",
       "                                         ... \n",
       "poofables                                   1\n",
       "bitluni's lab                               1\n",
       "Just Marcus                                 1\n",
       "Sevdaliza                                   1\n",
       "Commercials Funny                           1\n",
       "Chad Kroeger                                1\n",
       "The Inertia                                 1\n",
       "onsetfacilities.com                         1\n",
       "Taylor Alexander                            1\n",
       "edlover4real                                1\n",
       "Mike Olbinski                               1\n",
       "Shyrynne                                    1\n",
       "Mayo Clinic                                 1\n",
       "Brothers Green Eats                         1\n",
       "Ryan                                        1\n",
       "OjO Commuter Scooter by OjO Electric        1\n",
       "Republican News Watch                       1\n",
       "The Anna Edit                               1\n",
       "King Princess                               1\n",
       "Ozuna                                       1\n",
       "Super Netvid                                1\n",
       "Frankie Vision                              1\n",
       "Lawrence Livermore National Laboratory      1\n",
       "Hin Nya                                     1\n",
       "mariahxlambily                              1\n",
       "TrainVEVO                                   1\n",
       "Katy Perry                                  1\n",
       "SabrinaCarpenterVEVO                        1\n",
       "David Seymour                               1\n",
       "New Scientist                               1\n",
       "Name: channel_title, Length: 1892, dtype: int64"
      ]
     },
     "execution_count": 8,
     "metadata": {},
     "output_type": "execute_result"
    }
   ],
   "source": [
    "counts=df['channel_title'].value_counts() \n",
    "channel_list=counts[counts > 10].index.tolist()\n",
    "counts"
   ]
  },
  {
   "cell_type": "code",
   "execution_count": 9,
   "metadata": {},
   "outputs": [
    {
     "data": {
      "text/plain": [
       "<matplotlib.axes._subplots.AxesSubplot at 0xda7a9b0>"
      ]
     },
     "execution_count": 9,
     "metadata": {},
     "output_type": "execute_result"
    },
    {
     "data": {
      "image/png": "[encoded data removed]",
      "text/plain": [
       "<matplotlib.figure.Figure at 0xf625d68>"
      ]
     },
     "metadata": {},
     "output_type": "display_data"
    }
   ],
   "source": [
    "df[df['channel_title'].isin(channel_list[:10])].boxplot(\n",
    "    column=[\"log_likes_to_dislikes\"],by='channel_title',whis=10,rot=90)"
   ]
  },
  {
   "cell_type": "code",
   "execution_count": 10,
   "metadata": {},
   "outputs": [
    {
     "data": {
      "text/plain": [
       "<matplotlib.axes._subplots.AxesSubplot at 0xe2220b8>"
      ]
     },
     "execution_count": 10,
     "metadata": {},
     "output_type": "execute_result"
    },
    {
     "data": {
      "image/png": "[encoded data removed]",
      "text/plain": [
       "<matplotlib.figure.Figure at 0xf625d30>"
      ]
     },
     "metadata": {},
     "output_type": "display_data"
    }
   ],
   "source": [
    "df[df['channel_title'].isin(channel_list[:10])].boxplot(\n",
    "    column=[\"log_likes_per_views\"],by='channel_title',whis=10,rot=90)"
   ]
  },
  {
   "cell_type": "code",
   "execution_count": 11,
   "metadata": {},
   "outputs": [
    {
     "data": {
      "text/plain": [
       "<matplotlib.axes._subplots.AxesSubplot at 0xe344ac8>"
      ]
     },
     "execution_count": 11,
     "metadata": {},
     "output_type": "execute_result"
    },
    {
     "data": {
      "image/png": "[encoded data removed]",
      "text/plain": [
       "<matplotlib.figure.Figure at 0xe217d30>"
      ]
     },
     "metadata": {},
     "output_type": "display_data"
    }
   ],
   "source": [
    "df.boxplot(\n",
    "    column=[\"log_likes_per_views\"],by='category_id',whis=10,rot=90)"
   ]
  },
  {
   "cell_type": "code",
   "execution_count": 12,
   "metadata": {
    "collapsed": true
   },
   "outputs": [],
   "source": [
    "features=['views','likes','dislikes','comment_count','likes_to_dislikes','likes_per_views']\n",
    "df_cov=df[features]"
   ]
  },
  {
   "cell_type": "code",
   "execution_count": 13,
   "metadata": {},
   "outputs": [
    {
     "data": {
      "text/plain": [
       "[Text(0,0,''),\n",
       " Text(0,0,'views'),\n",
       " Text(0,0,'likes'),\n",
       " Text(0,0,'dislikes'),\n",
       " Text(0,0,'comment_count'),\n",
       " Text(0,0,'likes_to_dislikes'),\n",
       " Text(0,0,'likes_per_views')]"
      ]
     },
     "execution_count": 13,
     "metadata": {},
     "output_type": "execute_result"
    },
    {
     "data": {
      "image/png": "[encoded data removed]",
      "text/plain": [
       "<matplotlib.figure.Figure at 0xe49ec88>"
      ]
     },
     "metadata": {},
     "output_type": "display_data"
    }
   ],
   "source": [
    "fig=plt.figure()\n",
    "ax=fig.add_subplot(111)\n",
    "cax=ax.matshow(df_cov.corr())\n",
    "fig.colorbar(cax)\n",
    "ax.set_yticklabels(['']+features)"
   ]
  },
  {
   "cell_type": "code",
   "execution_count": 14,
   "metadata": {
    "collapsed": true
   },
   "outputs": [],
   "source": [
    "df_lpv=df.groupby('channel_title').median()['log_likes_per_views']"
   ]
  },
  {
   "cell_type": "markdown",
   "metadata": {},
   "source": [
    "It can be observed after grouped by the channels, the popularity metrics still varies a lot among different channels, so it is highly likely that the "
   ]
  },
  {
   "cell_type": "code",
   "execution_count": 15,
   "metadata": {},
   "outputs": [
    {
     "data": {
      "text/plain": [
       "(-8.9571361611571767, -3.662761945949618, -1.6003380342807583)"
      ]
     },
     "execution_count": 15,
     "metadata": {},
     "output_type": "execute_result"
    }
   ],
   "source": [
    "min(df_lpv),df_lpv.median(),max(df_lpv)"
   ]
  },
  {
   "cell_type": "markdown",
   "metadata": {},
   "source": [
    "# Experiments"
   ]
  },
  {
   "cell_type": "markdown",
   "metadata": {},
   "source": [
    "## Linear Regression"
   ]
  },
  {
   "cell_type": "code",
   "execution_count": 16,
   "metadata": {},
   "outputs": [
    {
     "data": {
      "text/html": [
       "<div>\n",
       "<style>\n",
       "    .dataframe thead tr:only-child th {\n",
       "        text-align: right;\n",
       "    }\n",
       "\n",
       "    .dataframe thead th {\n",
       "        text-align: left;\n",
       "    }\n",
       "\n",
       "    .dataframe tbody tr th {\n",
       "        vertical-align: top;\n",
       "    }\n",
       "</style>\n",
       "<table border=\"1\" class=\"dataframe\">\n",
       "  <thead>\n",
       "    <tr style=\"text-align: right;\">\n",
       "      <th></th>\n",
       "      <th>likes</th>\n",
       "      <th>dislikes</th>\n",
       "      <th>comment_count</th>\n",
       "      <th>log_likes_per_views</th>\n",
       "      <th>log_likes_to_dislikes</th>\n",
       "      <th>1</th>\n",
       "      <th>2</th>\n",
       "      <th>10</th>\n",
       "      <th>15</th>\n",
       "      <th>17</th>\n",
       "      <th>...</th>\n",
       "      <th>wdwmagic</th>\n",
       "      <th>yeokm1</th>\n",
       "      <th>yovo68</th>\n",
       "      <th>Алексей Навальный</th>\n",
       "      <th>Никита Ордынский</th>\n",
       "      <th>ТСН</th>\n",
       "      <th>ワーナー ブラザース 公式チャンネル</th>\n",
       "      <th>圧倒的不審者の極み!</th>\n",
       "      <th>郭韋辰</th>\n",
       "      <th>영국남자 Korean Englishman</th>\n",
       "    </tr>\n",
       "  </thead>\n",
       "  <tbody>\n",
       "    <tr>\n",
       "      <th>0</th>\n",
       "      <td>57527</td>\n",
       "      <td>2966</td>\n",
       "      <td>15954</td>\n",
       "      <td>-2.565648</td>\n",
       "      <td>2.965040</td>\n",
       "      <td>0</td>\n",
       "      <td>0</td>\n",
       "      <td>0</td>\n",
       "      <td>0</td>\n",
       "      <td>0</td>\n",
       "      <td>...</td>\n",
       "      <td>0</td>\n",
       "      <td>0</td>\n",
       "      <td>0</td>\n",
       "      <td>0</td>\n",
       "      <td>0</td>\n",
       "      <td>0</td>\n",
       "      <td>0</td>\n",
       "      <td>0</td>\n",
       "      <td>0</td>\n",
       "      <td>0</td>\n",
       "    </tr>\n",
       "    <tr>\n",
       "      <th>1</th>\n",
       "      <td>97185</td>\n",
       "      <td>6146</td>\n",
       "      <td>12703</td>\n",
       "      <td>-3.214403</td>\n",
       "      <td>2.760815</td>\n",
       "      <td>0</td>\n",
       "      <td>0</td>\n",
       "      <td>0</td>\n",
       "      <td>0</td>\n",
       "      <td>0</td>\n",
       "      <td>...</td>\n",
       "      <td>0</td>\n",
       "      <td>0</td>\n",
       "      <td>0</td>\n",
       "      <td>0</td>\n",
       "      <td>0</td>\n",
       "      <td>0</td>\n",
       "      <td>0</td>\n",
       "      <td>0</td>\n",
       "      <td>0</td>\n",
       "      <td>0</td>\n",
       "    </tr>\n",
       "    <tr>\n",
       "      <th>2</th>\n",
       "      <td>146033</td>\n",
       "      <td>5339</td>\n",
       "      <td>8181</td>\n",
       "      <td>-3.084393</td>\n",
       "      <td>3.308794</td>\n",
       "      <td>0</td>\n",
       "      <td>0</td>\n",
       "      <td>0</td>\n",
       "      <td>0</td>\n",
       "      <td>0</td>\n",
       "      <td>...</td>\n",
       "      <td>0</td>\n",
       "      <td>0</td>\n",
       "      <td>0</td>\n",
       "      <td>0</td>\n",
       "      <td>0</td>\n",
       "      <td>0</td>\n",
       "      <td>0</td>\n",
       "      <td>0</td>\n",
       "      <td>0</td>\n",
       "      <td>0</td>\n",
       "    </tr>\n",
       "    <tr>\n",
       "      <th>3</th>\n",
       "      <td>10172</td>\n",
       "      <td>666</td>\n",
       "      <td>2146</td>\n",
       "      <td>-3.518581</td>\n",
       "      <td>2.726104</td>\n",
       "      <td>0</td>\n",
       "      <td>0</td>\n",
       "      <td>0</td>\n",
       "      <td>0</td>\n",
       "      <td>0</td>\n",
       "      <td>...</td>\n",
       "      <td>0</td>\n",
       "      <td>0</td>\n",
       "      <td>0</td>\n",
       "      <td>0</td>\n",
       "      <td>0</td>\n",
       "      <td>0</td>\n",
       "      <td>0</td>\n",
       "      <td>0</td>\n",
       "      <td>0</td>\n",
       "      <td>0</td>\n",
       "    </tr>\n",
       "    <tr>\n",
       "      <th>4</th>\n",
       "      <td>132235</td>\n",
       "      <td>1989</td>\n",
       "      <td>17518</td>\n",
       "      <td>-2.763077</td>\n",
       "      <td>4.196949</td>\n",
       "      <td>0</td>\n",
       "      <td>0</td>\n",
       "      <td>0</td>\n",
       "      <td>0</td>\n",
       "      <td>0</td>\n",
       "      <td>...</td>\n",
       "      <td>0</td>\n",
       "      <td>0</td>\n",
       "      <td>0</td>\n",
       "      <td>0</td>\n",
       "      <td>0</td>\n",
       "      <td>0</td>\n",
       "      <td>0</td>\n",
       "      <td>0</td>\n",
       "      <td>0</td>\n",
       "      <td>0</td>\n",
       "    </tr>\n",
       "  </tbody>\n",
       "</table>\n",
       "<p>5 rows × 1913 columns</p>\n",
       "</div>"
      ],
      "text/plain": [
       "    likes  dislikes  comment_count  log_likes_per_views  \\\n",
       "0   57527      2966          15954            -2.565648   \n",
       "1   97185      6146          12703            -3.214403   \n",
       "2  146033      5339           8181            -3.084393   \n",
       "3   10172       666           2146            -3.518581   \n",
       "4  132235      1989          17518            -2.763077   \n",
       "\n",
       "   log_likes_to_dislikes  1  2  10  15  17           ...            wdwmagic  \\\n",
       "0               2.965040  0  0   0   0   0           ...                   0   \n",
       "1               2.760815  0  0   0   0   0           ...                   0   \n",
       "2               3.308794  0  0   0   0   0           ...                   0   \n",
       "3               2.726104  0  0   0   0   0           ...                   0   \n",
       "4               4.196949  0  0   0   0   0           ...                   0   \n",
       "\n",
       "   yeokm1  yovo68  Алексей Навальный  Никита Ордынский  ТСН  \\\n",
       "0       0       0                  0                 0    0   \n",
       "1       0       0                  0                 0    0   \n",
       "2       0       0                  0                 0    0   \n",
       "3       0       0                  0                 0    0   \n",
       "4       0       0                  0                 0    0   \n",
       "\n",
       "   ワーナー ブラザース 公式チャンネル  圧倒的不審者の極み!  郭韋辰  영국남자 Korean Englishman  \n",
       "0                   0           0    0                       0  \n",
       "1                   0           0    0                       0  \n",
       "2                   0           0    0                       0  \n",
       "3                   0           0    0                       0  \n",
       "4                   0           0    0                       0  \n",
       "\n",
       "[5 rows x 1913 columns]"
      ]
     },
     "execution_count": 16,
     "metadata": {},
     "output_type": "execute_result"
    }
   ],
   "source": [
    "df_lr=df[['likes','dislikes','comment_count','log_likes_per_views','log_likes_to_dislikes']]\n",
    "one_hot_cate=pd.get_dummies(df[\"category_id\"])\n",
    "one_hot_channel=pd.get_dummies(df[\"channel_title\"])\n",
    "df_lr=df_lr.join(one_hot_cate).join(one_hot_channel)\n",
    "df_lr.head()"
   ]
  },
  {
   "cell_type": "code",
   "execution_count": 17,
   "metadata": {
    "collapsed": true
   },
   "outputs": [],
   "source": [
    "from sklearn import linear_model\n",
    "from sklearn.model_selection import train_test_split\n",
    "lm=linear_model.LinearRegression()\n",
    "lm1=linear_model.LinearRegression()\n",
    "train,test=train_test_split(df_lr,test_size=0.2)\n",
    "x_train=train.drop([\"likes\",\"dislikes\",\"comment_count\",\"log_likes_per_views\",\"log_likes_to_dislikes\"],axis=1)\n",
    "x_test=test.drop([\"likes\",\"dislikes\",\"comment_count\",\"log_likes_per_views\",\"log_likes_to_dislikes\"],axis=1)"
   ]
  },
  {
   "cell_type": "code",
   "execution_count": 18,
   "metadata": {},
   "outputs": [
    {
     "data": {
      "text/plain": [
       "LinearRegression(copy_X=True, fit_intercept=True, n_jobs=1, normalize=False)"
      ]
     },
     "execution_count": 18,
     "metadata": {},
     "output_type": "execute_result"
    }
   ],
   "source": [
    "lm.fit(x_train,train[\"log_likes_per_views\"])\n",
    "lm1.fit(x_train,train[\"log_likes_to_dislikes\"])"
   ]
  },
  {
   "cell_type": "code",
   "execution_count": 19,
   "metadata": {
    "scrolled": false
   },
   "outputs": [
    {
     "name": "stdout",
     "output_type": "stream",
     "text": [
      "scores of likes_per_views: -1.39223847743e+23\n",
      "scores of likes_per_views: -1.15929472251e+24\n"
     ]
    }
   ],
   "source": [
    "print(\"scores of likes_per_views:\",lm.score(x_test,test[\"log_likes_per_views\"]))\n",
    "print(\"scores of likes_per_views:\",lm1.score(x_test,test[\"log_likes_to_dislikes\"]))"
   ]
  },
  {
   "cell_type": "markdown",
   "metadata": {},
   "source": [
    "## Text analysis"
   ]
  },
  {
   "cell_type": "code",
   "execution_count": 31,
   "metadata": {},
   "outputs": [],
   "source": [
    "def f(row):\n",
    "    return row[\"log_likes_per_views\"] > df_lpv[row['channel_title']]\n",
    "df[\"higher_than_median\"]=df.apply(f,axis=1)\n",
    "df_nbc=df[[\"title\",\"category_id\",\"description\",\"higher_than_median\"]]\n"
   ]
  },
  {
   "cell_type": "code",
   "execution_count": 46,
   "metadata": {},
   "outputs": [],
   "source": [
    "import re\n",
    "def clean_str(string):\n",
    "    '''\n",
    "    https://github.com/yoonkim/CNN_sentence/blob/master/process_data.py\n",
    "    '''\n",
    "    string = re.sub(r\"[^A-Za-z0-9(),!?\\'\\`]\", \" \", string)     \n",
    "    string = re.sub(r\"\\'s\", \" \\'s\", string) \n",
    "    string = re.sub(r\"\\'ve\", \" \\'ve\", string) \n",
    "    string = re.sub(r\"n\\'t\", \" n\\'t\", string) \n",
    "    string = re.sub(r\"\\'re\", \" \\'re\", string) \n",
    "    string = re.sub(r\"\\'d\", \" \\'d\", string) \n",
    "    string = re.sub(r\"\\'ll\", \" \\'ll\", string) \n",
    "    string = re.sub(r\",\", \" , \", string) \n",
    "    string = re.sub(r\"!\", \" ! \", string) \n",
    "    string = re.sub(r\"\\(\", \" \\( \", string) \n",
    "    string = re.sub(r\"\\)\", \" \\) \", string) \n",
    "    string = re.sub(r\"\\?\", \" \\? \", string) \n",
    "    string = re.sub(r\"\\s{2,}\", \" \", string) \n",
    "    return string.lower()\n",
    "df_nbc.dropna(inplace=True)\n",
    "df_nbc[\"title\"]=df_nbc[\"title\"].apply(clean_str)\n",
    "df_nbc[\"description\"]=df_nbc[\"description\"].apply(clean_str)\n",
    "nbc_train,nbc_test=train_test_split(df_nbc,test_size=0.2)"
   ]
  },
  {
   "cell_type": "markdown",
   "metadata": {},
   "source": [
    "## Tokenizing text and train model"
   ]
  },
  {
   "cell_type": "code",
   "execution_count": 61,
   "metadata": {},
   "outputs": [
    {
     "name": "stdout",
     "output_type": "stream",
     "text": [
      "0.592592592593\n"
     ]
    }
   ],
   "source": [
    "from sklearn.feature_extraction.text import TfidfTransformer, CountVectorizer\n",
    "from sklearn.pipeline import Pipeline\n",
    "from sklearn.naive_bayes import MultinomialNB\n",
    "text_clf = Pipeline([('vect', CountVectorizer()),\n",
    "                     ('tfidf', TfidfTransformer()),\n",
    "                     ('clf', MultinomialNB()),\n",
    "])\n",
    "text_clf.fit(nbc_train[\"description\"],nbc_train[\"higher_than_median\"])\n",
    "predicted=text_clf.predict(nbc_test[\"description\"])\n",
    "print(np.mean(nbc_test[\"higher_than_median\"]==predicted))"
   ]
  },
  {
   "cell_type": "code",
   "execution_count": 56,
   "metadata": {},
   "outputs": [
    {
     "name": "stdout",
     "output_type": "stream",
     "text": [
      "0.779226153528\n"
     ]
    }
   ],
   "source": [
    "text_clf1 = Pipeline([('vect', CountVectorizer()),\n",
    "                     ('tfidf', TfidfTransformer()),\n",
    "                     ('clf', MultinomialNB()),\n",
    "])\n",
    "text_clf1.fit(nbc_train[\"description\"],nbc_train[\"category_id\"])\n",
    "\n",
    "predicted=text_clf1.predict(nbc_test[\"description\"])\n",
    "print(np.mean(nbc_test[\"category_id\"]==predicted))"
   ]
  },
  {
   "cell_type": "code",
   "execution_count": 60,
   "metadata": {},
   "outputs": [
    {
     "name": "stdout",
     "output_type": "stream",
     "text": [
      "0.632940202773\n"
     ]
    }
   ],
   "source": [
    "text_clf2 = Pipeline([('vect', CountVectorizer()),\n",
    "                     ('tfidf', TfidfTransformer()),\n",
    "                     ('clf', MultinomialNB()),\n",
    "])\n",
    "text_clf2.fit(nbc_train[\"title\"],nbc_train[\"higher_than_median\"])\n",
    "\n",
    "predicted=text_clf2.predict(nbc_test[\"title\"])\n",
    "print(np.mean(nbc_test[\"higher_than_median\"]==predicted))"
   ]
  },
  {
   "cell_type": "markdown",
   "metadata": {},
   "source": [
    "## Evaluate models"
   ]
  },
  {
   "cell_type": "code",
   "execution_count": 53,
   "metadata": {},
   "outputs": [
    {
     "data": {
      "text/plain": [
       "0.52244982412580177"
      ]
     },
     "execution_count": 53,
     "metadata": {},
     "output_type": "execute_result"
    }
   ],
   "source": [
    "from sklearn.linear_model import SGDClassifier\n",
    "text_clf = Pipeline([('vect', CountVectorizer()),\n",
    "                     ('tfidf', TfidfTransformer()),\n",
    "                     ('clf', SGDClassifier(loss='hinge', penalty='l2',\n",
    "                                           alpha=1e-3, random_state=42,\n",
    "                                           max_iter=5, tol=None)),\n",
    "])\n",
    "text_clf.fit(nbc_train[\"description\"], nbc_train[\"higher_than_median\"])  \n",
    "predicted = text_clf.predict(nbc_test[\"description\"])\n",
    "np.mean(predicted == nbc_test[\"higher_than_median\"])            \n"
   ]
  },
  {
   "cell_type": "code",
   "execution_count": 57,
   "metadata": {},
   "outputs": [
    {
     "data": {
      "text/plain": [
       "0.93585764535485205"
      ]
     },
     "execution_count": 57,
     "metadata": {},
     "output_type": "execute_result"
    }
   ],
   "source": [
    "sgd_clf = Pipeline([('vect', CountVectorizer()),\n",
    "                     ('tfidf', TfidfTransformer()),\n",
    "                     ('clf', SGDClassifier(loss='hinge', penalty='l2',\n",
    "                                           alpha=1e-3, random_state=42,\n",
    "                                           max_iter=5, tol=None)),\n",
    "])\n",
    "sgd_clf.fit(nbc_train[\"description\"], nbc_train[\"category_id\"])  \n",
    "predicted = sgd_clf.predict(nbc_test[\"description\"])\n",
    "np.mean(predicted == nbc_test[\"category_id\"])    "
   ]
  },
  {
   "cell_type": "code",
   "execution_count": 58,
   "metadata": {},
   "outputs": [
    {
     "data": {
      "text/plain": [
       "0.87957790192427066"
      ]
     },
     "execution_count": 58,
     "metadata": {},
     "output_type": "execute_result"
    }
   ],
   "source": [
    "sgd_clf1 = Pipeline([('vect', CountVectorizer()),\n",
    "                     ('tfidf', TfidfTransformer()),\n",
    "                     ('clf', SGDClassifier(loss='hinge', penalty='l2',\n",
    "                                           alpha=1e-3, random_state=42,\n",
    "                                           max_iter=5, tol=None)),\n",
    "])\n",
    "sgd_clf1.fit(nbc_train[\"title\"], nbc_train[\"category_id\"])  \n",
    "predicted = sgd_clf1.predict(nbc_test[\"title\"])\n",
    "np.mean(predicted == nbc_test[\"category_id\"])    "
   ]
  }
 ],
 "metadata": {
  "kernelspec": {
   "display_name": "Python 3",
   "language": "python",
   "name": "python3"
  },
  "language_info": {
   "codemirror_mode": {
    "name": "ipython",
    "version": 3
   },
   "file_extension": ".py",
   "mimetype": "text/x-python",
   "name": "python",
   "nbconvert_exporter": "python",
   "pygments_lexer": "ipython3",
   "version": "3.6.3"
  }
 },
 "nbformat": 4,
 "nbformat_minor": 2
}
